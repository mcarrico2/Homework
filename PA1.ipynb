{
 "cells": [
  {
   "cell_type": "markdown",
   "id": "c2b602a4",
   "metadata": {},
   "source": [
    "PA1 Matthew Carrico Ver 1.0 Fall 2022"
   ]
  },
  {
   "cell_type": "code",
   "execution_count": 1,
   "id": "7b9f2c74",
   "metadata": {},
   "outputs": [
    {
     "name": "stdout",
     "output_type": "stream",
     "text": [
      "Enter a floating point number: 44.3\n"
     ]
    }
   ],
   "source": [
    "floatnum=float(input(\"Enter a floating point number: \"))"
   ]
  },
  {
   "cell_type": "code",
   "execution_count": 2,
   "id": "14b075a6",
   "metadata": {},
   "outputs": [
    {
     "name": "stdout",
     "output_type": "stream",
     "text": [
      "Enter an integer: 16\n"
     ]
    }
   ],
   "source": [
    "intnum=int(input(\"Enter an integer: \"))"
   ]
  },
  {
   "cell_type": "code",
   "execution_count": 3,
   "id": "87e4fffc",
   "metadata": {},
   "outputs": [
    {
     "name": "stdout",
     "output_type": "stream",
     "text": [
      "The sum is:  60.3\n"
     ]
    }
   ],
   "source": [
    "result= floatnum+intnum\n",
    "print(\"The sum is: \",(result))"
   ]
  },
  {
   "cell_type": "code",
   "execution_count": 4,
   "id": "40f653e4",
   "metadata": {},
   "outputs": [
    {
     "name": "stdout",
     "output_type": "stream",
     "text": [
      "The difference is:  28.3\n"
     ]
    }
   ],
   "source": [
    "result=floatnum-intnum\n",
    "print(\"The difference is: \", (round(result,2)))"
   ]
  },
  {
   "cell_type": "code",
   "execution_count": 5,
   "id": "b21f2190",
   "metadata": {},
   "outputs": [
    {
     "name": "stdout",
     "output_type": "stream",
     "text": [
      "The product is:  708.8\n"
     ]
    }
   ],
   "source": [
    "result= floatnum*intnum\n",
    "print(\"The product is: \", (result))"
   ]
  },
  {
   "cell_type": "code",
   "execution_count": 6,
   "id": "c824bae8",
   "metadata": {},
   "outputs": [
    {
     "name": "stdout",
     "output_type": "stream",
     "text": [
      "The quotient is:  2.76875\n"
     ]
    }
   ],
   "source": [
    "result=floatnum/intnum\n",
    "print(\"The quotient is: \", (result))"
   ]
  },
  {
   "cell_type": "code",
   "execution_count": 7,
   "id": "6538fbf0",
   "metadata": {},
   "outputs": [
    {
     "name": "stdout",
     "output_type": "stream",
     "text": [
      "The type for the result is:  <class 'float'>\n"
     ]
    }
   ],
   "source": [
    "print(\"The type for the result is: \", type(result))"
   ]
  }
 ],
 "metadata": {
  "kernelspec": {
   "display_name": "Python 3 (ipykernel)",
   "language": "python",
   "name": "python3"
  },
  "language_info": {
   "codemirror_mode": {
    "name": "ipython",
    "version": 3
   },
   "file_extension": ".py",
   "mimetype": "text/x-python",
   "name": "python",
   "nbconvert_exporter": "python",
   "pygments_lexer": "ipython3",
   "version": "3.9.12"
  }
 },
 "nbformat": 4,
 "nbformat_minor": 5
}
